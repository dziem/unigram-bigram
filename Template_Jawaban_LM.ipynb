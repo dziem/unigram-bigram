{
 "cells": [
  {
   "cell_type": "markdown",
   "metadata": {},
   "source": [
    "# TEMPLATE JAWABAN TUGAS LANGUAGE MODELING"
   ]
  },
  {
   "cell_type": "markdown",
   "metadata": {},
   "source": [
    "### Import Library"
   ]
  },
  {
   "cell_type": "code",
   "execution_count": 1,
   "metadata": {},
   "outputs": [
    {
     "name": "stderr",
     "output_type": "stream",
     "text": [
      "[nltk_data] Downloading package punkt to\n",
      "[nltk_data]     C:\\Users\\HP\\AppData\\Roaming\\nltk_data...\n",
      "[nltk_data]   Package punkt is already up-to-date!\n",
      "[nltk_data] Downloading package wordnet to\n",
      "[nltk_data]     C:\\Users\\HP\\AppData\\Roaming\\nltk_data...\n",
      "[nltk_data]   Package wordnet is already up-to-date!\n"
     ]
    },
    {
     "data": {
      "text/plain": [
       "True"
      ]
     },
     "execution_count": 1,
     "metadata": {},
     "output_type": "execute_result"
    }
   ],
   "source": [
    "import nltk\n",
    "import xlrd\n",
    "import operator\n",
    "import random\n",
    "import math\n",
    "nltk.download('punkt')\n",
    "nltk.download('wordnet')"
   ]
  },
  {
   "cell_type": "markdown",
   "metadata": {},
   "source": [
    "### Import Dataset (Training dan Testing)"
   ]
  },
  {
   "cell_type": "code",
   "execution_count": 16,
   "metadata": {},
   "outputs": [
    {
     "name": "stdout",
     "output_type": "stream",
     "text": [
      "done\n"
     ]
    }
   ],
   "source": [
    "book = xlrd.open_workbook('dataTrainArticle.xlsx')\n",
    "book2 = xlrd.open_workbook('dataTestArticle.xlsx')\n",
    "sheet = book.sheet_by_name('Sheet1')\n",
    "sheet2 = book2.sheet_by_name('Sheet1')\n",
    "dataTrainDefault = [[sheet.cell_value(r, c) for c in range(sheet.ncols)] for r in range(sheet.nrows)]\n",
    "dataTestDefault = [[sheet2.cell_value(r, c) for c in range(sheet2.ncols)] for r in range(sheet2.nrows)]\n",
    "#split each sentence in each article\n",
    "dataTrain = []\n",
    "for article in dataTrainDefault:\n",
    "    sentence = article[0].split('.')\n",
    "    for word in sentence:\n",
    "        dataTrain.append(word)\n",
    "dataTest = []\n",
    "for article in dataTestDefault:\n",
    "    sentence = article[0].split('.')\n",
    "    for word in sentence:\n",
    "        dataTest.append(word)\n",
    "#add dummy-ish data for OOV (word that doesn't exist in data train), the OOV will be converted to _____\n",
    "#just 4 basic word classes, noun, verbs, adjectives, adverb\n",
    "#without this p(oov) will be 0\n",
    "dataTrain.append('the _____ has _____ a new car that will drive arond the city _____') \n",
    "#the <noun> has <verb> a new car that will drive around the city <adverb>\n",
    "dataTrain.append('_____  is one _____ car')\n",
    "#<noun> has <verb> a new car that will drive around the city <adverb>\n",
    "print('done')"
   ]
  },
  {
   "cell_type": "markdown",
   "metadata": {},
   "source": [
    "### Bangun Model Unigram"
   ]
  },
  {
   "cell_type": "code",
   "execution_count": 17,
   "metadata": {},
   "outputs": [
    {
     "name": "stdout",
     "output_type": "stream",
     "text": [
      "done\n"
     ]
    }
   ],
   "source": [
    "def buildUnigramModel(trainingSentences):\n",
    "    wordCount = {}\n",
    "    count = 0\n",
    "    wordCount['<s>'] = 0\n",
    "    wordCount['</s>'] = 0\n",
    "    #count word\n",
    "    for sentence in trainingSentences:\n",
    "        tokens = nltk.word_tokenize(sentence)\n",
    "        count += 2\n",
    "        wordCount['<s>'] += 1\n",
    "        wordCount['</s>'] += 1\n",
    "        for token in tokens:\n",
    "            tokenLower = token.lower()\n",
    "            if tokenLower in wordCount:\n",
    "                wordCount[tokenLower] += 1\n",
    "            else:\n",
    "                wordCount[tokenLower] = 1\n",
    "            count += 1\n",
    "    unigramModel = wordCount\n",
    "    #count prob\n",
    "    for word in unigramModel:\n",
    "        unigramModel[word] = unigramModel[word] / count\n",
    "    return unigramModel\n",
    "unigramModel = buildUnigramModel(dataTrain)\n",
    "print('done')"
   ]
  },
  {
   "cell_type": "markdown",
   "metadata": {},
   "source": [
    "### Bangun Model Bigram"
   ]
  },
  {
   "cell_type": "code",
   "execution_count": 18,
   "metadata": {},
   "outputs": [
    {
     "name": "stdout",
     "output_type": "stream",
     "text": [
      "done\n"
     ]
    }
   ],
   "source": [
    "def buildBigramModel(trainingSentences):\n",
    "    wordPairCount = {}\n",
    "    wordCount = {}\n",
    "    wordCount['<s>'] = 0\n",
    "    wordCount['</s>'] = 0\n",
    "    wordPairCount['<s>'] = {}\n",
    "    #count word\n",
    "    for sentence in trainingSentences:\n",
    "        tokens = nltk.word_tokenize(sentence)\n",
    "        counter = 0\n",
    "        tokenBefore = ''\n",
    "        wordCount['<s>'] += 1\n",
    "        wordCount['</s>'] += 1\n",
    "        for token in tokens:\n",
    "            tokenLower = token.lower()\n",
    "            counter += 1\n",
    "            if tokenLower not in wordPairCount:\n",
    "                wordPairCount[tokenLower] = {}\n",
    "            if counter == 1:\n",
    "                if tokenLower in wordPairCount['<s>']:\n",
    "                    wordPairCount['<s>'][tokenLower] += 1\n",
    "                else:\n",
    "                    wordPairCount['<s>'][tokenLower] = 1\n",
    "            elif counter == len(tokens):\n",
    "                if tokenLower in wordPairCount[tokenBefore]:\n",
    "                    wordPairCount[tokenBefore][tokenLower] += 1\n",
    "                else:\n",
    "                    wordPairCount[tokenBefore][tokenLower] = 1\n",
    "                if '</s>' in wordPairCount[tokenLower]:\n",
    "                    wordPairCount[tokenLower]['</s>'] += 1\n",
    "                else:\n",
    "                    wordPairCount[tokenLower]['</s>'] = 1\n",
    "            else:\n",
    "                if tokenLower in wordPairCount[tokenBefore]:\n",
    "                    wordPairCount[tokenBefore][tokenLower] += 1\n",
    "                else:\n",
    "                    wordPairCount[tokenBefore][tokenLower] = 1\n",
    "            tokenBefore = tokenLower\n",
    "            if tokenLower in wordCount:\n",
    "                wordCount[tokenLower] += 1\n",
    "            else:\n",
    "                wordCount[tokenLower] = 1\n",
    "    bigramModel = {}\n",
    "    \n",
    "    vee = len(wordCount) #for smoothing, the V\n",
    "    #smoothing (adding k)\n",
    "    kay = 0.1 #the k for smoothing\n",
    "    for wordBefore in wordPairCount.keys():\n",
    "        for theWord in wordCount.keys():\n",
    "            if theWord != '<s>':\n",
    "                if theWord not in wordPairCount[wordBefore]:\n",
    "                    wordPairCount[wordBefore][theWord] = kay\n",
    "                else:\n",
    "                    wordPairCount[wordBefore][theWord] += kay\n",
    "                #bigramModel[wordBefore][theWord] = wordPairCount[wordBefore][theWord] / wordCount[theWord]\n",
    "    #smoothing (adding vee)\n",
    "    for theWord in wordCount.keys():\n",
    "        wordCount[theWord] += (vee * kay)\n",
    "    #count prob\n",
    "    for wordBefore in wordPairCount.keys():\n",
    "        bigramModel[wordBefore] = {}\n",
    "        for theWord in wordCount.keys():\n",
    "            if theWord != '<s>':\n",
    "                bigramModel[wordBefore][theWord] = wordPairCount[wordBefore][theWord] / wordCount[theWord]\n",
    "    '''\n",
    "    for wordBefore in wordPairCount.keys():\n",
    "        bigramModel[wordBefore] = {}\n",
    "        for theWord in wordPairCount[wordBefore].keys():\n",
    "            if theWord != '<s>':\n",
    "                bigramModel[wordBefore][theWord] = wordPairCount[wordBefore][theWord] / wordCount[theWord]\n",
    "    '''\n",
    "    return bigramModel\n",
    "bigramModel = buildBigramModel(dataTrain)\n",
    "print('done')"
   ]
  },
  {
   "cell_type": "markdown",
   "metadata": {},
   "source": [
    "### Bangun Fungsi Kata Berikutnya Dengan Probability Tertinggi"
   ]
  },
  {
   "cell_type": "code",
   "execution_count": 40,
   "metadata": {},
   "outputs": [
    {
     "name": "stdout",
     "output_type": "stream",
     "text": [
      "is\n"
     ]
    }
   ],
   "source": [
    "#Diberikan sebuah kata, cari kata berikutnya yang memiliki probability tertinggi berdasarkan model bigram\n",
    "#random from top n to spice things up\n",
    "def nextBestWord(bigramModel, currentWord, topn):\n",
    "    top = []\n",
    "    holder = {}\n",
    "    currentWordLow = currentWord.lower()\n",
    "    if currentWordLow not in bigramModel:\n",
    "        currentWordLow = \"_____\"\n",
    "    for i in range(topn):\n",
    "        maxs = max(bigramModel[currentWordLow].items(), key=operator.itemgetter(1))[0]\n",
    "        holder[maxs] = bigramModel[currentWordLow][maxs]\n",
    "        top.append(maxs)\n",
    "        bigramModel[currentWordLow].pop(maxs)\n",
    "    for i in range(topn):\n",
    "        bigramModel[currentWordLow].update( {top[i] : holder[top[i]]} )\n",
    "    maks = sum(holder.values())\n",
    "    pick = random.uniform(0, maks)\n",
    "    current = 0\n",
    "    for key, value in holder.items():\n",
    "        current += value\n",
    "        if current > pick:\n",
    "            return key\n",
    "    #return nextWord\n",
    "#Lakukan percobaan dengan memberikan sebuah kata, lalu print kata berikutnya\n",
    "print(nextBestWord(bigramModel,\"lexus\",3))"
   ]
  },
  {
   "cell_type": "markdown",
   "metadata": {},
   "source": [
    "### Hitung Perplexity Unigram dan Bigram terhadap Data Testing"
   ]
  },
  {
   "cell_type": "code",
   "execution_count": 38,
   "metadata": {},
   "outputs": [
    {
     "name": "stdout",
     "output_type": "stream",
     "text": [
      "{'unigram': 773.3640489611981, 'bigram': 1196.055093998808}\n"
     ]
    }
   ],
   "source": [
    "def countPerplexity(unigramModel, bigramModel, testSentences):\n",
    "    perplexity = {}\n",
    "    #unigram\n",
    "    count1 = 0\n",
    "    total1 = 0\n",
    "    for sentence in testSentences:\n",
    "        pos = 0\n",
    "        tokens = nltk.word_tokenize(sentence)\n",
    "        for word in tokens:\n",
    "            pos += 1\n",
    "            count1 += 1\n",
    "            wordLow = word.lower()\n",
    "            if word not in unigramModel:\n",
    "                wordLow = \"_____\"\n",
    "            if pos > 1:\n",
    "                total1 += math.log2(unigramModel[wordLow])\n",
    "            elif pos == len(tokens):\n",
    "                total1 += math.log2(unigramModel[wordLow])\n",
    "                total1 += math.log2(unigramModel['</s>'])\n",
    "                count1 += 1\n",
    "            elif pos == 1:\n",
    "                count1 += 1\n",
    "                total1 += math.log2(unigramModel['<s>'])\n",
    "                total1 += math.log2(unigramModel[wordLow])\n",
    "    total1 = total1 / count1\n",
    "    total1 = total1 * -1\n",
    "    perplexity1 = 2 ** total1\n",
    "    perplexity.update({'unigram' : perplexity1})\n",
    "    #bigram\n",
    "    count2 = 0\n",
    "    total2 = 0\n",
    "    for sentence in testSentences:\n",
    "        pos = 0\n",
    "        tokens = nltk.word_tokenize(sentence)\n",
    "        for word in tokens:\n",
    "            count2 += 1\n",
    "            pos += 1\n",
    "            wordLow = word.lower()\n",
    "            if word not in bigramModel:\n",
    "                wordLow = \"_____\"\n",
    "            if pos > 1:\n",
    "                total2 += math.log2(bigramModel[wordBefore][wordLow])\n",
    "            elif pos == len(tokens):\n",
    "                total2 += math.log2(bigramModel[wordBefore][wordLow])\n",
    "                total2 += math.log2(bigramModel[wordLow]['</s>'])\n",
    "                count2 += 1\n",
    "            elif pos == 1:\n",
    "                total2 += math.log2(bigramModel['<s>'][wordLow])\n",
    "            wordBefore = wordLow\n",
    "    total2 = total2 / count2\n",
    "    total2 = total2 * -1\n",
    "    perplexity2 = 2 ** total2\n",
    "    perplexity.update({'bigram' : perplexity2})\n",
    "    return perplexity\n",
    "print(countPerplexity(unigramModel, bigramModel, dataTest))"
   ]
  },
  {
   "cell_type": "markdown",
   "metadata": {},
   "source": [
    "### Bangun Fungsi Generate Kalimat"
   ]
  },
  {
   "cell_type": "code",
   "execution_count": 83,
   "metadata": {},
   "outputs": [
    {
     "data": {
      "text/plain": [
       "' it was built on the car that’s a little more than a little more powerful than the new car will be able to be built in the new car that the new car that’s a little more powerful than a little more than the car will be able baton studied its new car will make it’s not so far as a little too late 1920s and the new corsa is a new corsa gsi. car that the car will be able to be built in the car will be built in the car'"
      ]
     },
     "execution_count": 83,
     "metadata": {},
     "output_type": "execute_result"
    }
   ],
   "source": [
    "def generateSentence(model, length):\n",
    "    sentence = ''\n",
    "    wordBefore = '<s>'\n",
    "    for i in range(length):\n",
    "        nextWord = nextBestWord(model,wordBefore,2)\n",
    "        if nextWord == '<s>':\n",
    "            sentence += ' '\n",
    "        elif nextWord == \"</s>\":\n",
    "            sentence += '.'\n",
    "        else:\n",
    "            if nextWord != \"'\" and nextWord != '’' and wordBefore != '’' and nextWord != '\"' and nextWord != ',' and nextWord != '(' and nextWord != ')':\n",
    "                sentence += ' '\n",
    "            sentence += nextWord\n",
    "        wordBefore = nextWord\n",
    "    return sentence\n",
    "generateSentence(bigramModel,100)"
   ]
  },
  {
   "cell_type": "code",
   "execution_count": null,
   "metadata": {},
   "outputs": [],
   "source": []
  },
  {
   "cell_type": "code",
   "execution_count": null,
   "metadata": {},
   "outputs": [],
   "source": []
  }
 ],
 "metadata": {
  "kernelspec": {
   "display_name": "Python 3",
   "language": "python",
   "name": "python3"
  },
  "language_info": {
   "codemirror_mode": {
    "name": "ipython",
    "version": 3
   },
   "file_extension": ".py",
   "mimetype": "text/x-python",
   "name": "python",
   "nbconvert_exporter": "python",
   "pygments_lexer": "ipython3",
   "version": "3.6.5"
  }
 },
 "nbformat": 4,
 "nbformat_minor": 2
}

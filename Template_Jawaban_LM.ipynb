{
 "cells": [
  {
   "cell_type": "markdown",
   "metadata": {},
   "source": [
    "# TEMPLATE JAWABAN TUGAS LANGUAGE MODELING"
   ]
  },
  {
   "cell_type": "markdown",
   "metadata": {},
   "source": [
    "### Import Library"
   ]
  },
  {
   "cell_type": "code",
   "execution_count": 1,
   "metadata": {},
   "outputs": [
    {
     "name": "stderr",
     "output_type": "stream",
     "text": [
      "[nltk_data] Downloading package punkt to\n",
      "[nltk_data]     C:\\Users\\HP\\AppData\\Roaming\\nltk_data...\n",
      "[nltk_data]   Package punkt is already up-to-date!\n",
      "[nltk_data] Downloading package wordnet to\n",
      "[nltk_data]     C:\\Users\\HP\\AppData\\Roaming\\nltk_data...\n",
      "[nltk_data]   Package wordnet is already up-to-date!\n"
     ]
    },
    {
     "data": {
      "text/plain": [
       "True"
      ]
     },
     "execution_count": 1,
     "metadata": {},
     "output_type": "execute_result"
    }
   ],
   "source": [
    "import nltk\n",
    "import xlrd\n",
    "import operator\n",
    "from random import randrange\n",
    "import math\n",
    "nltk.download('punkt')\n",
    "nltk.download('wordnet')"
   ]
  },
  {
   "cell_type": "markdown",
   "metadata": {},
   "source": [
    "### Import Dataset (Training dan Testing)"
   ]
  },
  {
   "cell_type": "code",
   "execution_count": 69,
   "metadata": {},
   "outputs": [
    {
     "name": "stdout",
     "output_type": "stream",
     "text": [
      "done\n"
     ]
    }
   ],
   "source": [
    "book = xlrd.open_workbook('dataTrainTitle.xlsx')\n",
    "book2 = xlrd.open_workbook('dataTestTitle.xlsx')\n",
    "sheet = book.sheet_by_name('Sheet1')\n",
    "sheet2 = book2.sheet_by_name('Sheet1')\n",
    "dataTrain = [[sheet.cell_value(r, c) for c in range(sheet.ncols)] for r in range(sheet.nrows)]\n",
    "dataTest = [[sheet2.cell_value(r, c) for c in range(sheet2.ncols)] for r in range(sheet2.nrows)]\n",
    "#add dummy-ish data for OOV, the OOV will be converted to _____\n",
    "#just 4 basic word classes, noun, verbs, adjectives, adverb\n",
    "#without this p(oov) will be 0\n",
    "dataTrain.append(['the _____ has _____ a new car that will drive arond the city _____']) \n",
    "#the <noun> has <verb> a new car that will drive around the city <adverb>\n",
    "dataTrain.append(['_____  is one _____ car'])\n",
    "#<noun> has <verb> a new car that will drive around the city <adverb>\n",
    "print('done')"
   ]
  },
  {
   "cell_type": "markdown",
   "metadata": {},
   "source": [
    "### Bangun Model Unigram"
   ]
  },
  {
   "cell_type": "code",
   "execution_count": 82,
   "metadata": {},
   "outputs": [
    {
     "name": "stdout",
     "output_type": "stream",
     "text": [
      "done\n"
     ]
    }
   ],
   "source": [
    "def buildUnigramModel(trainingSentences):\n",
    "    wordCount = {}\n",
    "    count = 0\n",
    "    wordCount['<s>'] = 0\n",
    "    wordCount['</s>'] = 0\n",
    "    #count word\n",
    "    for sentence in trainingSentences:\n",
    "        tokens = nltk.word_tokenize(sentence[0])\n",
    "        count += 2\n",
    "        wordCount['<s>'] += 1\n",
    "        wordCount['</s>'] += 1\n",
    "        for token in tokens:\n",
    "            tokenLower = token.lower()\n",
    "            if tokenLower in wordCount:\n",
    "                wordCount[tokenLower] += 1\n",
    "            else:\n",
    "                wordCount[tokenLower] = 1\n",
    "            count += 1\n",
    "    unigramModel = wordCount\n",
    "    #count prob\n",
    "    for word in unigramModel:\n",
    "        unigramModel[word] = unigramModel[word] / count\n",
    "    return unigramModel\n",
    "unigramModel = buildUnigramModel(dataTrain)\n",
    "print('done')"
   ]
  },
  {
   "cell_type": "markdown",
   "metadata": {},
   "source": [
    "### Bangun Model Bigram"
   ]
  },
  {
   "cell_type": "code",
   "execution_count": null,
   "metadata": {},
   "outputs": [],
   "source": [
    "def buildBigramModel(trainingSentences):\n",
    "    wordPairCount = {}\n",
    "    wordCount = {}\n",
    "    wordCount['<s>'] = 0\n",
    "    wordCount['</s>'] = 0\n",
    "    wordPairCount['<s>'] = {}\n",
    "    #count word\n",
    "    for sentence in trainingSentences:\n",
    "        tokens = nltk.word_tokenize(sentence[0])\n",
    "        counter = 0\n",
    "        tokenBefore = ''\n",
    "        wordCount['<s>'] += 1\n",
    "        wordCount['</s>'] += 1\n",
    "        for token in tokens:\n",
    "            tokenLower = token.lower()\n",
    "            counter += 1\n",
    "            if tokenLower not in wordPairCount:\n",
    "                wordPairCount[tokenLower] = {}\n",
    "            if counter == 1:\n",
    "                if tokenLower in wordPairCount['<s>']:\n",
    "                    wordPairCount['<s>'][tokenLower] += 1\n",
    "                else:\n",
    "                    wordPairCount['<s>'][tokenLower] = 1\n",
    "            elif counter == len(tokens):\n",
    "                if tokenLower in wordPairCount[tokenBefore]:\n",
    "                    wordPairCount[tokenBefore][tokenLower] += 1\n",
    "                else:\n",
    "                    wordPairCount[tokenBefore][tokenLower] = 1\n",
    "                if '</s>' in wordPairCount[tokenLower]:\n",
    "                    wordPairCount[tokenLower]['</s>'] += 1\n",
    "                else:\n",
    "                    wordPairCount[tokenLower]['</s>'] = 1\n",
    "            else:\n",
    "                if tokenLower in wordPairCount[tokenBefore]:\n",
    "                    wordPairCount[tokenBefore][tokenLower] += 1\n",
    "                else:\n",
    "                    wordPairCount[tokenBefore][tokenLower] = 1\n",
    "            tokenBefore = tokenLower\n",
    "            if tokenLower in wordCount:\n",
    "                wordCount[tokenLower] += 1\n",
    "            else:\n",
    "                wordCount[tokenLower] = 1\n",
    "    bigramModel = {}\n",
    "    \n",
    "    vee = len(wordCount) #for smoothing\n",
    "    #smoothing (adding k)\n",
    "    kay = 0.1\n",
    "    for wordBefore in wordPairCount.keys():\n",
    "        for theWord in wordCount.keys():\n",
    "            if theWord != '<s>':\n",
    "                if theWord not in wordPairCount[wordBefore]:\n",
    "                    wordPairCount[wordBefore][theWord] = kay\n",
    "                else:\n",
    "                    wordPairCount[wordBefore][theWord] += kay\n",
    "                #bigramModel[wordBefore][theWord] = wordPairCount[wordBefore][theWord] / wordCount[theWord]\n",
    "    #smoothing (adding vee)\n",
    "    for theWord in wordCount.keys():\n",
    "        wordCount[theWord] += vee * kay\n",
    "    #count prob\n",
    "    for wordBefore in wordPairCount.keys():\n",
    "        bigramModel[wordBefore] = {}\n",
    "        for theWord in wordCount.keys():\n",
    "            if theWord != '<s>':\n",
    "                bigramModel[wordBefore][theWord] = wordPairCount[wordBefore][theWord] / wordCount[theWord]\n",
    "    '''\n",
    "    for wordBefore in wordPairCount.keys():\n",
    "        bigramModel[wordBefore] = {}\n",
    "        for theWord in wordPairCount[wordBefore].keys():\n",
    "            if theWord != '<s>':\n",
    "                bigramModel[wordBefore][theWord] = wordPairCount[wordBefore][theWord] / wordCount[theWord]\n",
    "    '''\n",
    "    return bigramModel\n",
    "bigramModel = buildBigramModel(dataTrain)\n",
    "print('done')"
   ]
  },
  {
   "cell_type": "markdown",
   "metadata": {},
   "source": [
    "### Bangun Fungsi Kata Berikutnya Dengan Probability Tertinggi"
   ]
  },
  {
   "cell_type": "code",
   "execution_count": 91,
   "metadata": {},
   "outputs": [
    {
     "name": "stdout",
     "output_type": "stream",
     "text": [
      "speedtail\n"
     ]
    }
   ],
   "source": [
    "#Diberikan sebuah kata, cari kata berikutnya yang memiliki probability tertinggi berdasarkan model bigram\n",
    "#random from top 3 to spice things up\n",
    "def nextBestWord(bigramModel, currentWord):\n",
    "    top = []\n",
    "    holder = {}\n",
    "    currentWordLow = currentWord.lower()\n",
    "    if currentWordLow not in bigramModel:\n",
    "        currentWordLow = \"_____\"\n",
    "    for i in range(3):\n",
    "        maxs = max(bigramModel[currentWordLow].items(), key=operator.itemgetter(1))[0]\n",
    "        holder[maxs] = bigramModel[currentWordLow][maxs]\n",
    "        top.append(maxs)\n",
    "        bigramModel[currentWordLow].pop(maxs)\n",
    "    nextWord = top[(randrange(3))]\n",
    "    for i in range(3):\n",
    "        bigramModel[currentWordLow].update( {top[i] : holder[top[i]]} )\n",
    "    return nextWord\n",
    "#Lakukan percobaan dengan memberikan sebuah kata, lalu print kata berikutnya\n",
    "print(nextBestWord(bigramModel,\"Mclaren\"))"
   ]
  },
  {
   "cell_type": "markdown",
   "metadata": {},
   "source": [
    "### Hitung Perplexity Unigram dan Bigram terhadap Data Testing"
   ]
  },
  {
   "cell_type": "code",
   "execution_count": 92,
   "metadata": {},
   "outputs": [
    {
     "name": "stdout",
     "output_type": "stream",
     "text": [
      "{'unigram': 162.73911728757756, 'bigram': 196.13592391048}\n"
     ]
    }
   ],
   "source": [
    "def countPerplexity(unigramModel, bigramModel, testSentences):\n",
    "    perplexity = {}\n",
    "    #unigram\n",
    "    count1 = 0\n",
    "    total1 = 0\n",
    "    for sentence in testSentences:\n",
    "        pos = 0\n",
    "        tokens = nltk.word_tokenize(sentence[0])\n",
    "        for word in tokens:\n",
    "            pos += 1\n",
    "            count1 += 1\n",
    "            wordLow = word.lower()\n",
    "            if word not in unigramModel:\n",
    "                wordLow = \"_____\"\n",
    "            if pos > 1:\n",
    "                total1 += math.log2(unigramModel[wordLow])\n",
    "            elif pos == len(tokens):\n",
    "                total1 += math.log2(unigramModel[wordLow])\n",
    "                total1 += math.log2(unigramModel['</s>'])\n",
    "                count1 += 1\n",
    "            elif pos == 1:\n",
    "                    total1 += math.log2(unigramModel['<s>'])\n",
    "    total1 = total1 / count1\n",
    "    total1 = total1 * -1\n",
    "    perplexity1 = 2 ** total1\n",
    "    perplexity.update({'unigram' : perplexity1})\n",
    "    #bigram\n",
    "    count2 = 0\n",
    "    total2 = 0\n",
    "    for sentence in testSentences:\n",
    "        pos = 0\n",
    "        tokens = nltk.word_tokenize(sentence[0])\n",
    "        for word in tokens:\n",
    "            count2 += 1\n",
    "            pos += 1\n",
    "            wordLow = word.lower()\n",
    "            if word not in bigramModel:\n",
    "                wordLow = \"_____\"\n",
    "            if pos > 1:\n",
    "                total2 += math.log2(bigramModel[wordBefore][wordLow])\n",
    "            elif pos == len(tokens):\n",
    "                total2 += math.log2(bigramModel[wordBefore][wordLow])\n",
    "                total2 += math.log2(bigramModel[wordLow]['</s>'])\n",
    "                count2 += 1\n",
    "            elif pos == 1:\n",
    "                total2 += math.log2(bigramModel['<s>'][wordLow])\n",
    "            wordBefore = wordLow\n",
    "    total2 = total2 / count2\n",
    "    total2 = total2 * -1\n",
    "    perplexity2 = 2 ** total2\n",
    "    perplexity.update({'bigram' : perplexity2})\n",
    "    return perplexity\n",
    "print(countPerplexity(unigramModel, bigramModel, dataTest))"
   ]
  },
  {
   "cell_type": "markdown",
   "metadata": {},
   "source": [
    "### Bangun Fungsi Generate Kalimat"
   ]
  },
  {
   "cell_type": "code",
   "execution_count": null,
   "metadata": {
    "collapsed": true
   },
   "outputs": [],
   "source": [
    "def generateSentence(......, length):\n",
    "    \n",
    "    \n",
    "    \n",
    "    return sentence"
   ]
  }
 ],
 "metadata": {
  "kernelspec": {
   "display_name": "Python 3",
   "language": "python",
   "name": "python3"
  },
  "language_info": {
   "codemirror_mode": {
    "name": "ipython",
    "version": 3
   },
   "file_extension": ".py",
   "mimetype": "text/x-python",
   "name": "python",
   "nbconvert_exporter": "python",
   "pygments_lexer": "ipython3",
   "version": "3.6.5"
  }
 },
 "nbformat": 4,
 "nbformat_minor": 2
}

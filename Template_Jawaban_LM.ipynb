{
 "cells": [
  {
   "cell_type": "markdown",
   "metadata": {},
   "source": [
    "# TEMPLATE JAWABAN TUGAS LANGUAGE MODELING"
   ]
  },
  {
   "cell_type": "markdown",
   "metadata": {},
   "source": [
    "### Import Library"
   ]
  },
  {
   "cell_type": "code",
   "execution_count": 41,
   "metadata": {},
   "outputs": [
    {
     "name": "stderr",
     "output_type": "stream",
     "text": [
      "[nltk_data] Downloading package punkt to\n",
      "[nltk_data]     C:\\Users\\HP\\AppData\\Roaming\\nltk_data...\n",
      "[nltk_data]   Package punkt is already up-to-date!\n",
      "[nltk_data] Downloading package wordnet to\n",
      "[nltk_data]     C:\\Users\\HP\\AppData\\Roaming\\nltk_data...\n",
      "[nltk_data]   Package wordnet is already up-to-date!\n"
     ]
    },
    {
     "data": {
      "text/plain": [
       "True"
      ]
     },
     "execution_count": 41,
     "metadata": {},
     "output_type": "execute_result"
    }
   ],
   "source": [
    "import nltk\n",
    "import xlrd\n",
    "import operator\n",
    "nltk.download('punkt')\n",
    "nltk.download('wordnet')"
   ]
  },
  {
   "cell_type": "markdown",
   "metadata": {},
   "source": [
    "### Import Dataset (Training dan Testing)"
   ]
  },
  {
   "cell_type": "code",
   "execution_count": 3,
   "metadata": {},
   "outputs": [
    {
     "name": "stdout",
     "output_type": "stream",
     "text": [
      "[[\"It'll Be Years Before The New 'R36' Nissan GT-R Arrives\"], ['A New, Potentially Less Ugly Nissan Juke Is On The Way'], ['The 2020 Nissan GT-R Nismo Is Almost 600LT Money']]\n"
     ]
    }
   ],
   "source": [
    "book = xlrd.open_workbook('dataTrainTitle.xlsx')\n",
    "sheet = book.sheet_by_name('Sheet1')\n",
    "dataTrain = [[sheet.cell_value(r, c) for c in range(sheet.ncols)] for r in range(sheet.nrows)]\n",
    "print(dataTrain)"
   ]
  },
  {
   "cell_type": "markdown",
   "metadata": {},
   "source": [
    "### Bangun Model Unigram"
   ]
  },
  {
   "cell_type": "code",
   "execution_count": 51,
   "metadata": {},
   "outputs": [],
   "source": [
    "def buildUnigramModel(trainingSentences):\n",
    "    wordCount = {}\n",
    "    count = 0\n",
    "    #count word\n",
    "    for sentence in trainingSentences:\n",
    "        tokens = nltk.word_tokenize(sentence[0])\n",
    "        for token in tokens:\n",
    "            tokenLower = token.lower()\n",
    "            if tokenLower in wordCount:\n",
    "                wordCount[tokenLower] += 1\n",
    "            else:\n",
    "                wordCount[tokenLower] = 1\n",
    "            count += 1\n",
    "    unigramModel = wordCount\n",
    "    #count prob\n",
    "    for word in unigramModel:\n",
    "        unigramModel[word] = unigramModel[word] / count\n",
    "    return unigramModel\n",
    "unigramModel = buildUnigramModel(dataTrain)"
   ]
  },
  {
   "cell_type": "markdown",
   "metadata": {},
   "source": [
    "### Bangun Model Bigram"
   ]
  },
  {
   "cell_type": "code",
   "execution_count": 50,
   "metadata": {},
   "outputs": [],
   "source": [
    "def buildBigramModel(trainingSentences):\n",
    "    wordPairCount = {}\n",
    "    wordCount = {}\n",
    "    wordCount['<s>'] = 0\n",
    "    wordCount['</s>'] = 0\n",
    "    wordPairCount['<s>'] = {}\n",
    "    #count word\n",
    "    for sentence in trainingSentences:\n",
    "        tokens = nltk.word_tokenize(sentence[0])\n",
    "        counter = 0\n",
    "        tokenBefore = ''\n",
    "        wordCount['<s>'] += 1\n",
    "        wordCount['</s>'] += 1\n",
    "        for token in tokens:\n",
    "            tokenLower = token.lower()\n",
    "            counter += 1\n",
    "            if tokenLower not in wordPairCount:\n",
    "                wordPairCount[tokenLower] = {}\n",
    "            if counter == 1:\n",
    "                if tokenLower in wordPairCount['<s>']:\n",
    "                    wordPairCount['<s>'][tokenLower] += 1\n",
    "                else:\n",
    "                    wordPairCount['<s>'][tokenLower] = 1\n",
    "            elif counter == len(tokens):\n",
    "                if tokenLower in wordPairCount[tokenBefore]:\n",
    "                    wordPairCount[tokenBefore][tokenLower] += 1\n",
    "                else:\n",
    "                    wordPairCount[tokenBefore][tokenLower] = 1\n",
    "                if '</s>' in wordPairCount[tokenLower]:\n",
    "                    wordPairCount[tokenLower]['</s>'] += 1\n",
    "                else:\n",
    "                    wordPairCount[tokenLower]['</s>'] = 1\n",
    "            else:\n",
    "                if tokenLower in wordPairCount[tokenBefore]:\n",
    "                    wordPairCount[tokenBefore][tokenLower] += 1\n",
    "                else:\n",
    "                    wordPairCount[tokenBefore][tokenLower] = 1\n",
    "            tokenBefore = tokenLower\n",
    "            if tokenLower in wordCount:\n",
    "                wordCount[tokenLower] += 1\n",
    "            else:\n",
    "                wordCount[tokenLower] = 1\n",
    "    bigramModel = {}\n",
    "    vee = len(wordCount) #for smoothing\n",
    "    #smoothing (adding one)\n",
    "    for wordBefore in wordPairCount.keys():\n",
    "        for theWord in wordCount.keys():\n",
    "            if theWord != '<s>':\n",
    "                if theWord not in wordPairCount[wordBefore]:\n",
    "                    wordPairCount[wordBefore][theWord] = 1\n",
    "                else:\n",
    "                    wordPairCount[wordBefore][theWord] += 1\n",
    "                #bigramModel[wordBefore][theWord] = wordPairCount[wordBefore][theWord] / wordCount[theWord]\n",
    "    #smoothing (adding vee)\n",
    "    for theWord in wordCount.keys():\n",
    "        wordCount[theWord] += vee\n",
    "    #count prob\n",
    "    for wordBefore in wordPairCount.keys():\n",
    "        bigramModel[wordBefore] = {}\n",
    "        for theWord in wordCount.keys():\n",
    "            if theWord != '<s>':\n",
    "                bigramModel[wordBefore][theWord] = wordPairCount[wordBefore][theWord] / wordCount[theWord]\n",
    "    return bigramModel\n",
    "bigramModel = buildBigramModel(dataTrain)"
   ]
  },
  {
   "cell_type": "markdown",
   "metadata": {},
   "source": [
    "### Bangun Fungsi Kata Berikutnya Dengan Probability Tertinggi"
   ]
  },
  {
   "cell_type": "code",
   "execution_count": 53,
   "metadata": {},
   "outputs": [
    {
     "name": "stdout",
     "output_type": "stream",
     "text": [
      "gt-r\n"
     ]
    }
   ],
   "source": [
    "#Diberikan sebuah kata, cari kata berikutnya yang memiliki probability tertinggi berdasarkan model bigram\n",
    "def nextBestWord(bigramModel, currentWord):\n",
    "    if currentWord not in bigramModel:\n",
    "        nextWord = \"OOV\"\n",
    "    else:\n",
    "        nextWord = max(bigramModel[currentWord].items(), key=operator.itemgetter(1))[0]\n",
    "    return nextWord\n",
    "#Lakukan percobaan dengan memberikan sebuah kata, lalu print kata berikutnya\n",
    "print(nextBestWord(bigramModel,\"nissan\"))"
   ]
  },
  {
   "cell_type": "markdown",
   "metadata": {},
   "source": [
    "### Hitung Perplexity Unigram dan Bigram terhadap Data Testing"
   ]
  },
  {
   "cell_type": "code",
   "execution_count": null,
   "metadata": {
    "collapsed": true
   },
   "outputs": [],
   "source": [
    "def countPerplexity(..........., testSentences):\n",
    "    \n",
    "\n",
    "    \n",
    "    return perplexity"
   ]
  },
  {
   "cell_type": "markdown",
   "metadata": {},
   "source": [
    "### Bangun Fungsi Generate Kalimat"
   ]
  },
  {
   "cell_type": "code",
   "execution_count": null,
   "metadata": {
    "collapsed": true
   },
   "outputs": [],
   "source": [
    "def generateSentence(......, length):\n",
    "    \n",
    "    \n",
    "    \n",
    "    return sentence"
   ]
  }
 ],
 "metadata": {
  "kernelspec": {
   "display_name": "Python 3",
   "language": "python",
   "name": "python3"
  },
  "language_info": {
   "codemirror_mode": {
    "name": "ipython",
    "version": 3
   },
   "file_extension": ".py",
   "mimetype": "text/x-python",
   "name": "python",
   "nbconvert_exporter": "python",
   "pygments_lexer": "ipython3",
   "version": "3.6.5"
  }
 },
 "nbformat": 4,
 "nbformat_minor": 2
}
